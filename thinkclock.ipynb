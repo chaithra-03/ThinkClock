{
 "cells": [
  {
   "cell_type": "markdown",
   "id": "d2dafd69",
   "metadata": {
    "papermill": {
     "duration": 0.005678,
     "end_time": "2024-12-17T07:13:43.952454",
     "exception": false,
     "start_time": "2024-12-17T07:13:43.946776",
     "status": "completed"
    },
    "tags": []
   },
   "source": [
    "\n",
    "**Importing Libraries**"
   ]
  },
  {
   "cell_type": "code",
   "execution_count": 1,
   "id": "2e1373ee",
   "metadata": {
    "execution": {
     "iopub.execute_input": "2024-12-17T07:13:43.964036Z",
     "iopub.status.busy": "2024-12-17T07:13:43.963609Z",
     "iopub.status.idle": "2024-12-17T07:13:45.197901Z",
     "shell.execute_reply": "2024-12-17T07:13:45.196626Z"
    },
    "papermill": {
     "duration": 1.2431,
     "end_time": "2024-12-17T07:13:45.200611",
     "exception": false,
     "start_time": "2024-12-17T07:13:43.957511",
     "status": "completed"
    },
    "tags": []
   },
   "outputs": [],
   "source": [
    "import pandas as pd\n",
    "import ast\n",
    "from datetime import datetime\n",
    "import numpy as np\n",
    "import plotly.graph_objects as go\n",
    "import plotly.io as pio\n",
    "pio.renderers.default = 'iframe_connected'\n",
    "\n"
   ]
  },
  {
   "cell_type": "markdown",
   "id": "b2823015",
   "metadata": {
    "papermill": {
     "duration": 0.00466,
     "end_time": "2024-12-17T07:13:45.210348",
     "exception": false,
     "start_time": "2024-12-17T07:13:45.205688",
     "status": "completed"
    },
    "tags": []
   },
   "source": [
    "****Loading dataset****"
   ]
  },
  {
   "cell_type": "code",
   "execution_count": 2,
   "id": "6c0d7dcc",
   "metadata": {
    "execution": {
     "iopub.execute_input": "2024-12-17T07:13:45.222788Z",
     "iopub.status.busy": "2024-12-17T07:13:45.222402Z",
     "iopub.status.idle": "2024-12-17T07:13:45.277295Z",
     "shell.execute_reply": "2024-12-17T07:13:45.276256Z"
    },
    "papermill": {
     "duration": 0.063594,
     "end_time": "2024-12-17T07:13:45.279871",
     "exception": false,
     "start_time": "2024-12-17T07:13:45.216277",
     "status": "completed"
    },
    "tags": []
   },
   "outputs": [],
   "source": [
    "metadata_path = \"/kaggle/input/nasa-battery-dataset/cleaned_dataset/metadata.csv\"\n",
    "metadata_df = pd.read_csv(metadata_path)"
   ]
  },
  {
   "cell_type": "markdown",
   "id": "1c9af16a",
   "metadata": {
    "papermill": {
     "duration": 0.004632,
     "end_time": "2024-12-17T07:13:45.289767",
     "exception": false,
     "start_time": "2024-12-17T07:13:45.285135",
     "status": "completed"
    },
    "tags": []
   },
   "source": []
  },
  {
   "cell_type": "markdown",
   "id": "84141cb4",
   "metadata": {
    "papermill": {
     "duration": 0.004464,
     "end_time": "2024-12-17T07:13:45.299054",
     "exception": false,
     "start_time": "2024-12-17T07:13:45.294590",
     "status": "completed"
    },
    "tags": []
   },
   "source": [
    "**column headers**"
   ]
  },
  {
   "cell_type": "code",
   "execution_count": 3,
   "id": "e4a234c9",
   "metadata": {
    "execution": {
     "iopub.execute_input": "2024-12-17T07:13:45.310708Z",
     "iopub.status.busy": "2024-12-17T07:13:45.309885Z",
     "iopub.status.idle": "2024-12-17T07:13:45.315716Z",
     "shell.execute_reply": "2024-12-17T07:13:45.314615Z"
    },
    "papermill": {
     "duration": 0.014613,
     "end_time": "2024-12-17T07:13:45.318527",
     "exception": false,
     "start_time": "2024-12-17T07:13:45.303914",
     "status": "completed"
    },
    "tags": []
   },
   "outputs": [
    {
     "name": "stdout",
     "output_type": "stream",
     "text": [
      "Index(['type', 'start_time', 'ambient_temperature', 'battery_id', 'test_id',\n",
      "       'uid', 'filename', 'Capacity', 'Re', 'Rct'],\n",
      "      dtype='object')\n"
     ]
    }
   ],
   "source": [
    "print(metadata_df.columns)"
   ]
  },
  {
   "cell_type": "markdown",
   "id": "8fed82e5",
   "metadata": {
    "papermill": {
     "duration": 0.004586,
     "end_time": "2024-12-17T07:13:45.328090",
     "exception": false,
     "start_time": "2024-12-17T07:13:45.323504",
     "status": "completed"
    },
    "tags": []
   },
   "source": []
  },
  {
   "cell_type": "markdown",
   "id": "be1057ea",
   "metadata": {
    "papermill": {
     "duration": 0.004524,
     "end_time": "2024-12-17T07:13:45.337381",
     "exception": false,
     "start_time": "2024-12-17T07:13:45.332857",
     "status": "completed"
    },
    "tags": []
   },
   "source": [
    "**Filtering out dataset with type impedance**"
   ]
  },
  {
   "cell_type": "code",
   "execution_count": 4,
   "id": "9ba7253a",
   "metadata": {
    "execution": {
     "iopub.execute_input": "2024-12-17T07:13:45.348745Z",
     "iopub.status.busy": "2024-12-17T07:13:45.348336Z",
     "iopub.status.idle": "2024-12-17T07:13:45.367081Z",
     "shell.execute_reply": "2024-12-17T07:13:45.365955Z"
    },
    "papermill": {
     "duration": 0.027129,
     "end_time": "2024-12-17T07:13:45.369427",
     "exception": false,
     "start_time": "2024-12-17T07:13:45.342298",
     "status": "completed"
    },
    "tags": []
   },
   "outputs": [],
   "source": [
    "impedance_df = metadata_df[metadata_df['type'] == 'impedance'][['start_time', 'Re', 'Rct', 'battery_id']]"
   ]
  },
  {
   "cell_type": "markdown",
   "id": "dad2d482",
   "metadata": {
    "papermill": {
     "duration": 0.004515,
     "end_time": "2024-12-17T07:13:45.378927",
     "exception": false,
     "start_time": "2024-12-17T07:13:45.374412",
     "status": "completed"
    },
    "tags": []
   },
   "source": []
  },
  {
   "cell_type": "markdown",
   "id": "be3408f0",
   "metadata": {
    "papermill": {
     "duration": 0.004592,
     "end_time": "2024-12-17T07:13:45.388435",
     "exception": false,
     "start_time": "2024-12-17T07:13:45.383843",
     "status": "completed"
    },
    "tags": []
   },
   "source": [
    "**creating original dataframe of dataset**"
   ]
  },
  {
   "cell_type": "code",
   "execution_count": 5,
   "id": "18071682",
   "metadata": {
    "execution": {
     "iopub.execute_input": "2024-12-17T07:13:45.400253Z",
     "iopub.status.busy": "2024-12-17T07:13:45.399161Z",
     "iopub.status.idle": "2024-12-17T07:13:45.407812Z",
     "shell.execute_reply": "2024-12-17T07:13:45.406733Z"
    },
    "papermill": {
     "duration": 0.016795,
     "end_time": "2024-12-17T07:13:45.410011",
     "exception": false,
     "start_time": "2024-12-17T07:13:45.393216",
     "status": "completed"
    },
    "tags": []
   },
   "outputs": [],
   "source": [
    "dataset_df = metadata_df[metadata_df['type'] == 'impedance'][['start_time', 'filename', 'battery_id']]"
   ]
  },
  {
   "cell_type": "markdown",
   "id": "a7fb7294",
   "metadata": {
    "papermill": {
     "duration": 0.004574,
     "end_time": "2024-12-17T07:13:45.419714",
     "exception": false,
     "start_time": "2024-12-17T07:13:45.415140",
     "status": "completed"
    },
    "tags": []
   },
   "source": []
  },
  {
   "cell_type": "markdown",
   "id": "a88ea97a",
   "metadata": {
    "papermill": {
     "duration": 0.004554,
     "end_time": "2024-12-17T07:13:45.429173",
     "exception": false,
     "start_time": "2024-12-17T07:13:45.424619",
     "status": "completed"
    },
    "tags": []
   },
   "source": [
    "**start time to appropriate format**"
   ]
  },
  {
   "cell_type": "code",
   "execution_count": 6,
   "id": "7d968d3f",
   "metadata": {
    "execution": {
     "iopub.execute_input": "2024-12-17T07:13:45.440286Z",
     "iopub.status.busy": "2024-12-17T07:13:45.439883Z",
     "iopub.status.idle": "2024-12-17T07:13:45.464038Z",
     "shell.execute_reply": "2024-12-17T07:13:45.463111Z"
    },
    "papermill": {
     "duration": 0.032324,
     "end_time": "2024-12-17T07:13:45.466333",
     "exception": false,
     "start_time": "2024-12-17T07:13:45.434009",
     "status": "completed"
    },
    "tags": []
   },
   "outputs": [],
   "source": [
    "from datetime import datetime\n",
    "\n",
    "def parse_start_time(value):\n",
    "    try:\n",
    "        if isinstance(value, str):\n",
    "            value = value.strip(\"[]\").replace(\",\", \"\")\n",
    "            components = [float(x) for x in value.split()]\n",
    "            if len(components) == 6:\n",
    "                year, month, day, hour, minute = map(int, components[:5])\n",
    "                second = int(components[5])\n",
    "                return datetime(year, month, day, hour, minute, second)\n",
    "    except (ValueError, SyntaxError, TypeError):\n",
    "        return pd.NaT\n",
    "    return pd.NaT\n",
    "\n",
    "\n",
    "dataset_df['start_time'] = dataset_df['start_time'].apply(parse_start_time)\n",
    "impedance_df['start_time'] = impedance_df['start_time'].apply(parse_start_time)"
   ]
  },
  {
   "cell_type": "markdown",
   "id": "3dee262d",
   "metadata": {
    "papermill": {
     "duration": 0.004771,
     "end_time": "2024-12-17T07:13:45.476207",
     "exception": false,
     "start_time": "2024-12-17T07:13:45.471436",
     "status": "completed"
    },
    "tags": []
   },
   "source": []
  },
  {
   "cell_type": "markdown",
   "id": "4345b9c4",
   "metadata": {
    "papermill": {
     "duration": 0.004834,
     "end_time": "2024-12-17T07:13:45.485970",
     "exception": false,
     "start_time": "2024-12-17T07:13:45.481136",
     "status": "completed"
    },
    "tags": []
   },
   "source": [
    "**Dropping null values and sorting**"
   ]
  },
  {
   "cell_type": "code",
   "execution_count": 7,
   "id": "06fa0296",
   "metadata": {
    "execution": {
     "iopub.execute_input": "2024-12-17T07:13:45.497567Z",
     "iopub.status.busy": "2024-12-17T07:13:45.497175Z",
     "iopub.status.idle": "2024-12-17T07:13:45.509178Z",
     "shell.execute_reply": "2024-12-17T07:13:45.508190Z"
    },
    "papermill": {
     "duration": 0.020473,
     "end_time": "2024-12-17T07:13:45.511577",
     "exception": false,
     "start_time": "2024-12-17T07:13:45.491104",
     "status": "completed"
    },
    "tags": []
   },
   "outputs": [],
   "source": [
    "impedance_df = impedance_df.dropna(subset=['start_time'])\n",
    "impedance_df = impedance_df.sort_values(by='start_time')\n",
    "\n",
    "dataset_df = dataset_df.dropna(subset=['start_time'])\n",
    "dataset_df = dataset_df.sort_values(by='start_time')"
   ]
  },
  {
   "cell_type": "markdown",
   "id": "041568f9",
   "metadata": {
    "papermill": {
     "duration": 0.004603,
     "end_time": "2024-12-17T07:13:45.521447",
     "exception": false,
     "start_time": "2024-12-17T07:13:45.516844",
     "status": "completed"
    },
    "tags": []
   },
   "source": []
  },
  {
   "cell_type": "markdown",
   "id": "35c95553",
   "metadata": {
    "papermill": {
     "duration": 0.004558,
     "end_time": "2024-12-17T07:13:45.530930",
     "exception": false,
     "start_time": "2024-12-17T07:13:45.526372",
     "status": "completed"
    },
    "tags": []
   },
   "source": [
    "**list of batteries**"
   ]
  },
  {
   "cell_type": "code",
   "execution_count": 8,
   "id": "aeb40c87",
   "metadata": {
    "execution": {
     "iopub.execute_input": "2024-12-17T07:13:45.542498Z",
     "iopub.status.busy": "2024-12-17T07:13:45.542096Z",
     "iopub.status.idle": "2024-12-17T07:13:45.553274Z",
     "shell.execute_reply": "2024-12-17T07:13:45.552012Z"
    },
    "papermill": {
     "duration": 0.019519,
     "end_time": "2024-12-17T07:13:45.555426",
     "exception": false,
     "start_time": "2024-12-17T07:13:45.535907",
     "status": "completed"
    },
    "tags": []
   },
   "outputs": [
    {
     "name": "stdout",
     "output_type": "stream",
     "text": [
      "['B0005' 'B0007' 'B0006' 'B0018' 'B0028' 'B0027' 'B0025' 'B0026' 'B0029'\n",
      " 'B0031' 'B0030' 'B0032' 'B0036' 'B0034' 'B0033' 'B0039' 'B0038' 'B0040'\n",
      " 'B0043' 'B0044' 'B0042' 'B0041' 'B0047' 'B0045' 'B0046' 'B0048' 'B0052'\n",
      " 'B0049' 'B0050' 'B0051' 'B0054' 'B0056' 'B0055' 'B0053']\n"
     ]
    }
   ],
   "source": [
    "print(impedance_df['battery_id'].unique())"
   ]
  },
  {
   "cell_type": "markdown",
   "id": "0c4024ba",
   "metadata": {
    "papermill": {
     "duration": 0.004616,
     "end_time": "2024-12-17T07:13:45.565109",
     "exception": false,
     "start_time": "2024-12-17T07:13:45.560493",
     "status": "completed"
    },
    "tags": []
   },
   "source": []
  },
  {
   "cell_type": "markdown",
   "id": "d6ad722d",
   "metadata": {
    "papermill": {
     "duration": 0.004564,
     "end_time": "2024-12-17T07:13:45.574618",
     "exception": false,
     "start_time": "2024-12-17T07:13:45.570054",
     "status": "completed"
    },
    "tags": []
   },
   "source": [
    "**Filtering out information for each battery_id and plotting curves**"
   ]
  },
  {
   "cell_type": "code",
   "execution_count": 9,
   "id": "4a40c4c0",
   "metadata": {
    "execution": {
     "iopub.execute_input": "2024-12-17T07:13:45.586294Z",
     "iopub.status.busy": "2024-12-17T07:13:45.585885Z",
     "iopub.status.idle": "2024-12-17T07:13:48.318416Z",
     "shell.execute_reply": "2024-12-17T07:13:48.317251Z"
    },
    "papermill": {
     "duration": 2.741334,
     "end_time": "2024-12-17T07:13:48.320856",
     "exception": false,
     "start_time": "2024-12-17T07:13:45.579522",
     "status": "completed"
    },
    "tags": []
   },
   "outputs": [
    {
     "data": {
      "text/html": [
       "<iframe\n",
       "    scrolling=\"no\"\n",
       "    width=\"100%\"\n",
       "    height=\"545px\"\n",
       "    src=\"iframe_figures/figure_9.html\"\n",
       "    frameborder=\"0\"\n",
       "    allowfullscreen\n",
       "></iframe>\n"
      ]
     },
     "metadata": {},
     "output_type": "display_data"
    },
    {
     "data": {
      "text/html": [
       "<iframe\n",
       "    scrolling=\"no\"\n",
       "    width=\"100%\"\n",
       "    height=\"545px\"\n",
       "    src=\"iframe_figures/figure_9.html\"\n",
       "    frameborder=\"0\"\n",
       "    allowfullscreen\n",
       "></iframe>\n"
      ]
     },
     "metadata": {},
     "output_type": "display_data"
    },
    {
     "data": {
      "text/html": [
       "<iframe\n",
       "    scrolling=\"no\"\n",
       "    width=\"100%\"\n",
       "    height=\"545px\"\n",
       "    src=\"iframe_figures/figure_9.html\"\n",
       "    frameborder=\"0\"\n",
       "    allowfullscreen\n",
       "></iframe>\n"
      ]
     },
     "metadata": {},
     "output_type": "display_data"
    },
    {
     "data": {
      "text/html": [
       "<iframe\n",
       "    scrolling=\"no\"\n",
       "    width=\"100%\"\n",
       "    height=\"545px\"\n",
       "    src=\"iframe_figures/figure_9.html\"\n",
       "    frameborder=\"0\"\n",
       "    allowfullscreen\n",
       "></iframe>\n"
      ]
     },
     "metadata": {},
     "output_type": "display_data"
    },
    {
     "data": {
      "text/html": [
       "<iframe\n",
       "    scrolling=\"no\"\n",
       "    width=\"100%\"\n",
       "    height=\"545px\"\n",
       "    src=\"iframe_figures/figure_9.html\"\n",
       "    frameborder=\"0\"\n",
       "    allowfullscreen\n",
       "></iframe>\n"
      ]
     },
     "metadata": {},
     "output_type": "display_data"
    },
    {
     "data": {
      "text/html": [
       "<iframe\n",
       "    scrolling=\"no\"\n",
       "    width=\"100%\"\n",
       "    height=\"545px\"\n",
       "    src=\"iframe_figures/figure_9.html\"\n",
       "    frameborder=\"0\"\n",
       "    allowfullscreen\n",
       "></iframe>\n"
      ]
     },
     "metadata": {},
     "output_type": "display_data"
    },
    {
     "data": {
      "text/html": [
       "<iframe\n",
       "    scrolling=\"no\"\n",
       "    width=\"100%\"\n",
       "    height=\"545px\"\n",
       "    src=\"iframe_figures/figure_9.html\"\n",
       "    frameborder=\"0\"\n",
       "    allowfullscreen\n",
       "></iframe>\n"
      ]
     },
     "metadata": {},
     "output_type": "display_data"
    },
    {
     "data": {
      "text/html": [
       "<iframe\n",
       "    scrolling=\"no\"\n",
       "    width=\"100%\"\n",
       "    height=\"545px\"\n",
       "    src=\"iframe_figures/figure_9.html\"\n",
       "    frameborder=\"0\"\n",
       "    allowfullscreen\n",
       "></iframe>\n"
      ]
     },
     "metadata": {},
     "output_type": "display_data"
    },
    {
     "data": {
      "text/html": [
       "<iframe\n",
       "    scrolling=\"no\"\n",
       "    width=\"100%\"\n",
       "    height=\"545px\"\n",
       "    src=\"iframe_figures/figure_9.html\"\n",
       "    frameborder=\"0\"\n",
       "    allowfullscreen\n",
       "></iframe>\n"
      ]
     },
     "metadata": {},
     "output_type": "display_data"
    },
    {
     "data": {
      "text/html": [
       "<iframe\n",
       "    scrolling=\"no\"\n",
       "    width=\"100%\"\n",
       "    height=\"545px\"\n",
       "    src=\"iframe_figures/figure_9.html\"\n",
       "    frameborder=\"0\"\n",
       "    allowfullscreen\n",
       "></iframe>\n"
      ]
     },
     "metadata": {},
     "output_type": "display_data"
    },
    {
     "data": {
      "text/html": [
       "<iframe\n",
       "    scrolling=\"no\"\n",
       "    width=\"100%\"\n",
       "    height=\"545px\"\n",
       "    src=\"iframe_figures/figure_9.html\"\n",
       "    frameborder=\"0\"\n",
       "    allowfullscreen\n",
       "></iframe>\n"
      ]
     },
     "metadata": {},
     "output_type": "display_data"
    },
    {
     "data": {
      "text/html": [
       "<iframe\n",
       "    scrolling=\"no\"\n",
       "    width=\"100%\"\n",
       "    height=\"545px\"\n",
       "    src=\"iframe_figures/figure_9.html\"\n",
       "    frameborder=\"0\"\n",
       "    allowfullscreen\n",
       "></iframe>\n"
      ]
     },
     "metadata": {},
     "output_type": "display_data"
    },
    {
     "data": {
      "text/html": [
       "<iframe\n",
       "    scrolling=\"no\"\n",
       "    width=\"100%\"\n",
       "    height=\"545px\"\n",
       "    src=\"iframe_figures/figure_9.html\"\n",
       "    frameborder=\"0\"\n",
       "    allowfullscreen\n",
       "></iframe>\n"
      ]
     },
     "metadata": {},
     "output_type": "display_data"
    },
    {
     "data": {
      "text/html": [
       "<iframe\n",
       "    scrolling=\"no\"\n",
       "    width=\"100%\"\n",
       "    height=\"545px\"\n",
       "    src=\"iframe_figures/figure_9.html\"\n",
       "    frameborder=\"0\"\n",
       "    allowfullscreen\n",
       "></iframe>\n"
      ]
     },
     "metadata": {},
     "output_type": "display_data"
    },
    {
     "data": {
      "text/html": [
       "<iframe\n",
       "    scrolling=\"no\"\n",
       "    width=\"100%\"\n",
       "    height=\"545px\"\n",
       "    src=\"iframe_figures/figure_9.html\"\n",
       "    frameborder=\"0\"\n",
       "    allowfullscreen\n",
       "></iframe>\n"
      ]
     },
     "metadata": {},
     "output_type": "display_data"
    },
    {
     "data": {
      "text/html": [
       "<iframe\n",
       "    scrolling=\"no\"\n",
       "    width=\"100%\"\n",
       "    height=\"545px\"\n",
       "    src=\"iframe_figures/figure_9.html\"\n",
       "    frameborder=\"0\"\n",
       "    allowfullscreen\n",
       "></iframe>\n"
      ]
     },
     "metadata": {},
     "output_type": "display_data"
    },
    {
     "data": {
      "text/html": [
       "<iframe\n",
       "    scrolling=\"no\"\n",
       "    width=\"100%\"\n",
       "    height=\"545px\"\n",
       "    src=\"iframe_figures/figure_9.html\"\n",
       "    frameborder=\"0\"\n",
       "    allowfullscreen\n",
       "></iframe>\n"
      ]
     },
     "metadata": {},
     "output_type": "display_data"
    },
    {
     "data": {
      "text/html": [
       "<iframe\n",
       "    scrolling=\"no\"\n",
       "    width=\"100%\"\n",
       "    height=\"545px\"\n",
       "    src=\"iframe_figures/figure_9.html\"\n",
       "    frameborder=\"0\"\n",
       "    allowfullscreen\n",
       "></iframe>\n"
      ]
     },
     "metadata": {},
     "output_type": "display_data"
    },
    {
     "data": {
      "text/html": [
       "<iframe\n",
       "    scrolling=\"no\"\n",
       "    width=\"100%\"\n",
       "    height=\"545px\"\n",
       "    src=\"iframe_figures/figure_9.html\"\n",
       "    frameborder=\"0\"\n",
       "    allowfullscreen\n",
       "></iframe>\n"
      ]
     },
     "metadata": {},
     "output_type": "display_data"
    },
    {
     "data": {
      "text/html": [
       "<iframe\n",
       "    scrolling=\"no\"\n",
       "    width=\"100%\"\n",
       "    height=\"545px\"\n",
       "    src=\"iframe_figures/figure_9.html\"\n",
       "    frameborder=\"0\"\n",
       "    allowfullscreen\n",
       "></iframe>\n"
      ]
     },
     "metadata": {},
     "output_type": "display_data"
    },
    {
     "data": {
      "text/html": [
       "<iframe\n",
       "    scrolling=\"no\"\n",
       "    width=\"100%\"\n",
       "    height=\"545px\"\n",
       "    src=\"iframe_figures/figure_9.html\"\n",
       "    frameborder=\"0\"\n",
       "    allowfullscreen\n",
       "></iframe>\n"
      ]
     },
     "metadata": {},
     "output_type": "display_data"
    },
    {
     "data": {
      "text/html": [
       "<iframe\n",
       "    scrolling=\"no\"\n",
       "    width=\"100%\"\n",
       "    height=\"545px\"\n",
       "    src=\"iframe_figures/figure_9.html\"\n",
       "    frameborder=\"0\"\n",
       "    allowfullscreen\n",
       "></iframe>\n"
      ]
     },
     "metadata": {},
     "output_type": "display_data"
    },
    {
     "data": {
      "text/html": [
       "<iframe\n",
       "    scrolling=\"no\"\n",
       "    width=\"100%\"\n",
       "    height=\"545px\"\n",
       "    src=\"iframe_figures/figure_9.html\"\n",
       "    frameborder=\"0\"\n",
       "    allowfullscreen\n",
       "></iframe>\n"
      ]
     },
     "metadata": {},
     "output_type": "display_data"
    },
    {
     "data": {
      "text/html": [
       "<iframe\n",
       "    scrolling=\"no\"\n",
       "    width=\"100%\"\n",
       "    height=\"545px\"\n",
       "    src=\"iframe_figures/figure_9.html\"\n",
       "    frameborder=\"0\"\n",
       "    allowfullscreen\n",
       "></iframe>\n"
      ]
     },
     "metadata": {},
     "output_type": "display_data"
    },
    {
     "data": {
      "text/html": [
       "<iframe\n",
       "    scrolling=\"no\"\n",
       "    width=\"100%\"\n",
       "    height=\"545px\"\n",
       "    src=\"iframe_figures/figure_9.html\"\n",
       "    frameborder=\"0\"\n",
       "    allowfullscreen\n",
       "></iframe>\n"
      ]
     },
     "metadata": {},
     "output_type": "display_data"
    },
    {
     "data": {
      "text/html": [
       "<iframe\n",
       "    scrolling=\"no\"\n",
       "    width=\"100%\"\n",
       "    height=\"545px\"\n",
       "    src=\"iframe_figures/figure_9.html\"\n",
       "    frameborder=\"0\"\n",
       "    allowfullscreen\n",
       "></iframe>\n"
      ]
     },
     "metadata": {},
     "output_type": "display_data"
    },
    {
     "data": {
      "text/html": [
       "<iframe\n",
       "    scrolling=\"no\"\n",
       "    width=\"100%\"\n",
       "    height=\"545px\"\n",
       "    src=\"iframe_figures/figure_9.html\"\n",
       "    frameborder=\"0\"\n",
       "    allowfullscreen\n",
       "></iframe>\n"
      ]
     },
     "metadata": {},
     "output_type": "display_data"
    },
    {
     "data": {
      "text/html": [
       "<iframe\n",
       "    scrolling=\"no\"\n",
       "    width=\"100%\"\n",
       "    height=\"545px\"\n",
       "    src=\"iframe_figures/figure_9.html\"\n",
       "    frameborder=\"0\"\n",
       "    allowfullscreen\n",
       "></iframe>\n"
      ]
     },
     "metadata": {},
     "output_type": "display_data"
    },
    {
     "data": {
      "text/html": [
       "<iframe\n",
       "    scrolling=\"no\"\n",
       "    width=\"100%\"\n",
       "    height=\"545px\"\n",
       "    src=\"iframe_figures/figure_9.html\"\n",
       "    frameborder=\"0\"\n",
       "    allowfullscreen\n",
       "></iframe>\n"
      ]
     },
     "metadata": {},
     "output_type": "display_data"
    },
    {
     "data": {
      "text/html": [
       "<iframe\n",
       "    scrolling=\"no\"\n",
       "    width=\"100%\"\n",
       "    height=\"545px\"\n",
       "    src=\"iframe_figures/figure_9.html\"\n",
       "    frameborder=\"0\"\n",
       "    allowfullscreen\n",
       "></iframe>\n"
      ]
     },
     "metadata": {},
     "output_type": "display_data"
    },
    {
     "data": {
      "text/html": [
       "<iframe\n",
       "    scrolling=\"no\"\n",
       "    width=\"100%\"\n",
       "    height=\"545px\"\n",
       "    src=\"iframe_figures/figure_9.html\"\n",
       "    frameborder=\"0\"\n",
       "    allowfullscreen\n",
       "></iframe>\n"
      ]
     },
     "metadata": {},
     "output_type": "display_data"
    },
    {
     "data": {
      "text/html": [
       "<iframe\n",
       "    scrolling=\"no\"\n",
       "    width=\"100%\"\n",
       "    height=\"545px\"\n",
       "    src=\"iframe_figures/figure_9.html\"\n",
       "    frameborder=\"0\"\n",
       "    allowfullscreen\n",
       "></iframe>\n"
      ]
     },
     "metadata": {},
     "output_type": "display_data"
    },
    {
     "data": {
      "text/html": [
       "<iframe\n",
       "    scrolling=\"no\"\n",
       "    width=\"100%\"\n",
       "    height=\"545px\"\n",
       "    src=\"iframe_figures/figure_9.html\"\n",
       "    frameborder=\"0\"\n",
       "    allowfullscreen\n",
       "></iframe>\n"
      ]
     },
     "metadata": {},
     "output_type": "display_data"
    },
    {
     "data": {
      "text/html": [
       "<iframe\n",
       "    scrolling=\"no\"\n",
       "    width=\"100%\"\n",
       "    height=\"545px\"\n",
       "    src=\"iframe_figures/figure_9.html\"\n",
       "    frameborder=\"0\"\n",
       "    allowfullscreen\n",
       "></iframe>\n"
      ]
     },
     "metadata": {},
     "output_type": "display_data"
    }
   ],
   "source": [
    "for battery_id in impedance_df['battery_id'].unique() :\n",
    "    current_battery_info = impedance_df[impedance_df['battery_id'] == battery_id]\n",
    "    # print(current_battery_info)\n",
    "    fig = go.Figure()\n",
    "    fig.add_trace(go.Scatter(\n",
    "        x=current_battery_info['start_time'], \n",
    "        y=current_battery_info['Re'], \n",
    "        mode='lines', \n",
    "        name='Re',\n",
    "        line=dict(color='green')\n",
    "    ))\n",
    "    fig.add_trace(go.Scatter(\n",
    "        x=current_battery_info['start_time'], \n",
    "        y=current_battery_info['Rct'], \n",
    "        mode='lines', \n",
    "        name='Rct',\n",
    "        line=dict(color='blue')\n",
    "    ))\n",
    "    fig.update_layout(\n",
    "        title=f\"Resistance (Battery ID: {battery_id})\",\n",
    "        xaxis_title=\"Start Time\",\n",
    "        yaxis_title=\"Resistance (Ohms)\",\n",
    "        xaxis=dict(tickangle=45),\n",
    "        legend_title=\"Legend\",\n",
    "        template=\"plotly\"\n",
    "    )\n",
    "    fig.show()"
   ]
  },
  {
   "cell_type": "markdown",
   "id": "8797703d",
   "metadata": {
    "papermill": {
     "duration": 0.007818,
     "end_time": "2024-12-17T07:13:48.337543",
     "exception": false,
     "start_time": "2024-12-17T07:13:48.329725",
     "status": "completed"
    },
    "tags": []
   },
   "source": [
    "**Analyzing Battery Impedance Over Time**"
   ]
  },
  {
   "cell_type": "code",
   "execution_count": 10,
   "id": "5a6fe45d",
   "metadata": {
    "execution": {
     "iopub.execute_input": "2024-12-17T07:13:48.355287Z",
     "iopub.status.busy": "2024-12-17T07:13:48.354882Z",
     "iopub.status.idle": "2024-12-17T07:14:05.531521Z",
     "shell.execute_reply": "2024-12-17T07:14:05.530126Z"
    },
    "papermill": {
     "duration": 17.188448,
     "end_time": "2024-12-17T07:14:05.534092",
     "exception": false,
     "start_time": "2024-12-17T07:13:48.345644",
     "status": "completed"
    },
    "tags": []
   },
   "outputs": [
    {
     "data": {
      "text/html": [
       "<iframe\n",
       "    scrolling=\"no\"\n",
       "    width=\"100%\"\n",
       "    height=\"545px\"\n",
       "    src=\"iframe_figures/figure_10.html\"\n",
       "    frameborder=\"0\"\n",
       "    allowfullscreen\n",
       "></iframe>\n"
      ]
     },
     "metadata": {},
     "output_type": "display_data"
    },
    {
     "data": {
      "text/html": [
       "<iframe\n",
       "    scrolling=\"no\"\n",
       "    width=\"100%\"\n",
       "    height=\"545px\"\n",
       "    src=\"iframe_figures/figure_10.html\"\n",
       "    frameborder=\"0\"\n",
       "    allowfullscreen\n",
       "></iframe>\n"
      ]
     },
     "metadata": {},
     "output_type": "display_data"
    },
    {
     "data": {
      "text/html": [
       "<iframe\n",
       "    scrolling=\"no\"\n",
       "    width=\"100%\"\n",
       "    height=\"545px\"\n",
       "    src=\"iframe_figures/figure_10.html\"\n",
       "    frameborder=\"0\"\n",
       "    allowfullscreen\n",
       "></iframe>\n"
      ]
     },
     "metadata": {},
     "output_type": "display_data"
    },
    {
     "data": {
      "text/html": [
       "<iframe\n",
       "    scrolling=\"no\"\n",
       "    width=\"100%\"\n",
       "    height=\"545px\"\n",
       "    src=\"iframe_figures/figure_10.html\"\n",
       "    frameborder=\"0\"\n",
       "    allowfullscreen\n",
       "></iframe>\n"
      ]
     },
     "metadata": {},
     "output_type": "display_data"
    },
    {
     "data": {
      "text/html": [
       "<iframe\n",
       "    scrolling=\"no\"\n",
       "    width=\"100%\"\n",
       "    height=\"545px\"\n",
       "    src=\"iframe_figures/figure_10.html\"\n",
       "    frameborder=\"0\"\n",
       "    allowfullscreen\n",
       "></iframe>\n"
      ]
     },
     "metadata": {},
     "output_type": "display_data"
    },
    {
     "data": {
      "text/html": [
       "<iframe\n",
       "    scrolling=\"no\"\n",
       "    width=\"100%\"\n",
       "    height=\"545px\"\n",
       "    src=\"iframe_figures/figure_10.html\"\n",
       "    frameborder=\"0\"\n",
       "    allowfullscreen\n",
       "></iframe>\n"
      ]
     },
     "metadata": {},
     "output_type": "display_data"
    },
    {
     "data": {
      "text/html": [
       "<iframe\n",
       "    scrolling=\"no\"\n",
       "    width=\"100%\"\n",
       "    height=\"545px\"\n",
       "    src=\"iframe_figures/figure_10.html\"\n",
       "    frameborder=\"0\"\n",
       "    allowfullscreen\n",
       "></iframe>\n"
      ]
     },
     "metadata": {},
     "output_type": "display_data"
    },
    {
     "data": {
      "text/html": [
       "<iframe\n",
       "    scrolling=\"no\"\n",
       "    width=\"100%\"\n",
       "    height=\"545px\"\n",
       "    src=\"iframe_figures/figure_10.html\"\n",
       "    frameborder=\"0\"\n",
       "    allowfullscreen\n",
       "></iframe>\n"
      ]
     },
     "metadata": {},
     "output_type": "display_data"
    },
    {
     "data": {
      "text/html": [
       "<iframe\n",
       "    scrolling=\"no\"\n",
       "    width=\"100%\"\n",
       "    height=\"545px\"\n",
       "    src=\"iframe_figures/figure_10.html\"\n",
       "    frameborder=\"0\"\n",
       "    allowfullscreen\n",
       "></iframe>\n"
      ]
     },
     "metadata": {},
     "output_type": "display_data"
    },
    {
     "data": {
      "text/html": [
       "<iframe\n",
       "    scrolling=\"no\"\n",
       "    width=\"100%\"\n",
       "    height=\"545px\"\n",
       "    src=\"iframe_figures/figure_10.html\"\n",
       "    frameborder=\"0\"\n",
       "    allowfullscreen\n",
       "></iframe>\n"
      ]
     },
     "metadata": {},
     "output_type": "display_data"
    },
    {
     "data": {
      "text/html": [
       "<iframe\n",
       "    scrolling=\"no\"\n",
       "    width=\"100%\"\n",
       "    height=\"545px\"\n",
       "    src=\"iframe_figures/figure_10.html\"\n",
       "    frameborder=\"0\"\n",
       "    allowfullscreen\n",
       "></iframe>\n"
      ]
     },
     "metadata": {},
     "output_type": "display_data"
    },
    {
     "data": {
      "text/html": [
       "<iframe\n",
       "    scrolling=\"no\"\n",
       "    width=\"100%\"\n",
       "    height=\"545px\"\n",
       "    src=\"iframe_figures/figure_10.html\"\n",
       "    frameborder=\"0\"\n",
       "    allowfullscreen\n",
       "></iframe>\n"
      ]
     },
     "metadata": {},
     "output_type": "display_data"
    },
    {
     "data": {
      "text/html": [
       "<iframe\n",
       "    scrolling=\"no\"\n",
       "    width=\"100%\"\n",
       "    height=\"545px\"\n",
       "    src=\"iframe_figures/figure_10.html\"\n",
       "    frameborder=\"0\"\n",
       "    allowfullscreen\n",
       "></iframe>\n"
      ]
     },
     "metadata": {},
     "output_type": "display_data"
    },
    {
     "data": {
      "text/html": [
       "<iframe\n",
       "    scrolling=\"no\"\n",
       "    width=\"100%\"\n",
       "    height=\"545px\"\n",
       "    src=\"iframe_figures/figure_10.html\"\n",
       "    frameborder=\"0\"\n",
       "    allowfullscreen\n",
       "></iframe>\n"
      ]
     },
     "metadata": {},
     "output_type": "display_data"
    },
    {
     "data": {
      "text/html": [
       "<iframe\n",
       "    scrolling=\"no\"\n",
       "    width=\"100%\"\n",
       "    height=\"545px\"\n",
       "    src=\"iframe_figures/figure_10.html\"\n",
       "    frameborder=\"0\"\n",
       "    allowfullscreen\n",
       "></iframe>\n"
      ]
     },
     "metadata": {},
     "output_type": "display_data"
    },
    {
     "data": {
      "text/html": [
       "<iframe\n",
       "    scrolling=\"no\"\n",
       "    width=\"100%\"\n",
       "    height=\"545px\"\n",
       "    src=\"iframe_figures/figure_10.html\"\n",
       "    frameborder=\"0\"\n",
       "    allowfullscreen\n",
       "></iframe>\n"
      ]
     },
     "metadata": {},
     "output_type": "display_data"
    },
    {
     "data": {
      "text/html": [
       "<iframe\n",
       "    scrolling=\"no\"\n",
       "    width=\"100%\"\n",
       "    height=\"545px\"\n",
       "    src=\"iframe_figures/figure_10.html\"\n",
       "    frameborder=\"0\"\n",
       "    allowfullscreen\n",
       "></iframe>\n"
      ]
     },
     "metadata": {},
     "output_type": "display_data"
    },
    {
     "data": {
      "text/html": [
       "<iframe\n",
       "    scrolling=\"no\"\n",
       "    width=\"100%\"\n",
       "    height=\"545px\"\n",
       "    src=\"iframe_figures/figure_10.html\"\n",
       "    frameborder=\"0\"\n",
       "    allowfullscreen\n",
       "></iframe>\n"
      ]
     },
     "metadata": {},
     "output_type": "display_data"
    },
    {
     "data": {
      "text/html": [
       "<iframe\n",
       "    scrolling=\"no\"\n",
       "    width=\"100%\"\n",
       "    height=\"545px\"\n",
       "    src=\"iframe_figures/figure_10.html\"\n",
       "    frameborder=\"0\"\n",
       "    allowfullscreen\n",
       "></iframe>\n"
      ]
     },
     "metadata": {},
     "output_type": "display_data"
    },
    {
     "data": {
      "text/html": [
       "<iframe\n",
       "    scrolling=\"no\"\n",
       "    width=\"100%\"\n",
       "    height=\"545px\"\n",
       "    src=\"iframe_figures/figure_10.html\"\n",
       "    frameborder=\"0\"\n",
       "    allowfullscreen\n",
       "></iframe>\n"
      ]
     },
     "metadata": {},
     "output_type": "display_data"
    },
    {
     "data": {
      "text/html": [
       "<iframe\n",
       "    scrolling=\"no\"\n",
       "    width=\"100%\"\n",
       "    height=\"545px\"\n",
       "    src=\"iframe_figures/figure_10.html\"\n",
       "    frameborder=\"0\"\n",
       "    allowfullscreen\n",
       "></iframe>\n"
      ]
     },
     "metadata": {},
     "output_type": "display_data"
    },
    {
     "data": {
      "text/html": [
       "<iframe\n",
       "    scrolling=\"no\"\n",
       "    width=\"100%\"\n",
       "    height=\"545px\"\n",
       "    src=\"iframe_figures/figure_10.html\"\n",
       "    frameborder=\"0\"\n",
       "    allowfullscreen\n",
       "></iframe>\n"
      ]
     },
     "metadata": {},
     "output_type": "display_data"
    },
    {
     "data": {
      "text/html": [
       "<iframe\n",
       "    scrolling=\"no\"\n",
       "    width=\"100%\"\n",
       "    height=\"545px\"\n",
       "    src=\"iframe_figures/figure_10.html\"\n",
       "    frameborder=\"0\"\n",
       "    allowfullscreen\n",
       "></iframe>\n"
      ]
     },
     "metadata": {},
     "output_type": "display_data"
    },
    {
     "data": {
      "text/html": [
       "<iframe\n",
       "    scrolling=\"no\"\n",
       "    width=\"100%\"\n",
       "    height=\"545px\"\n",
       "    src=\"iframe_figures/figure_10.html\"\n",
       "    frameborder=\"0\"\n",
       "    allowfullscreen\n",
       "></iframe>\n"
      ]
     },
     "metadata": {},
     "output_type": "display_data"
    },
    {
     "data": {
      "text/html": [
       "<iframe\n",
       "    scrolling=\"no\"\n",
       "    width=\"100%\"\n",
       "    height=\"545px\"\n",
       "    src=\"iframe_figures/figure_10.html\"\n",
       "    frameborder=\"0\"\n",
       "    allowfullscreen\n",
       "></iframe>\n"
      ]
     },
     "metadata": {},
     "output_type": "display_data"
    },
    {
     "data": {
      "text/html": [
       "<iframe\n",
       "    scrolling=\"no\"\n",
       "    width=\"100%\"\n",
       "    height=\"545px\"\n",
       "    src=\"iframe_figures/figure_10.html\"\n",
       "    frameborder=\"0\"\n",
       "    allowfullscreen\n",
       "></iframe>\n"
      ]
     },
     "metadata": {},
     "output_type": "display_data"
    },
    {
     "data": {
      "text/html": [
       "<iframe\n",
       "    scrolling=\"no\"\n",
       "    width=\"100%\"\n",
       "    height=\"545px\"\n",
       "    src=\"iframe_figures/figure_10.html\"\n",
       "    frameborder=\"0\"\n",
       "    allowfullscreen\n",
       "></iframe>\n"
      ]
     },
     "metadata": {},
     "output_type": "display_data"
    },
    {
     "data": {
      "text/html": [
       "<iframe\n",
       "    scrolling=\"no\"\n",
       "    width=\"100%\"\n",
       "    height=\"545px\"\n",
       "    src=\"iframe_figures/figure_10.html\"\n",
       "    frameborder=\"0\"\n",
       "    allowfullscreen\n",
       "></iframe>\n"
      ]
     },
     "metadata": {},
     "output_type": "display_data"
    },
    {
     "data": {
      "text/html": [
       "<iframe\n",
       "    scrolling=\"no\"\n",
       "    width=\"100%\"\n",
       "    height=\"545px\"\n",
       "    src=\"iframe_figures/figure_10.html\"\n",
       "    frameborder=\"0\"\n",
       "    allowfullscreen\n",
       "></iframe>\n"
      ]
     },
     "metadata": {},
     "output_type": "display_data"
    },
    {
     "data": {
      "text/html": [
       "<iframe\n",
       "    scrolling=\"no\"\n",
       "    width=\"100%\"\n",
       "    height=\"545px\"\n",
       "    src=\"iframe_figures/figure_10.html\"\n",
       "    frameborder=\"0\"\n",
       "    allowfullscreen\n",
       "></iframe>\n"
      ]
     },
     "metadata": {},
     "output_type": "display_data"
    },
    {
     "data": {
      "text/html": [
       "<iframe\n",
       "    scrolling=\"no\"\n",
       "    width=\"100%\"\n",
       "    height=\"545px\"\n",
       "    src=\"iframe_figures/figure_10.html\"\n",
       "    frameborder=\"0\"\n",
       "    allowfullscreen\n",
       "></iframe>\n"
      ]
     },
     "metadata": {},
     "output_type": "display_data"
    },
    {
     "data": {
      "text/html": [
       "<iframe\n",
       "    scrolling=\"no\"\n",
       "    width=\"100%\"\n",
       "    height=\"545px\"\n",
       "    src=\"iframe_figures/figure_10.html\"\n",
       "    frameborder=\"0\"\n",
       "    allowfullscreen\n",
       "></iframe>\n"
      ]
     },
     "metadata": {},
     "output_type": "display_data"
    },
    {
     "data": {
      "text/html": [
       "<iframe\n",
       "    scrolling=\"no\"\n",
       "    width=\"100%\"\n",
       "    height=\"545px\"\n",
       "    src=\"iframe_figures/figure_10.html\"\n",
       "    frameborder=\"0\"\n",
       "    allowfullscreen\n",
       "></iframe>\n"
      ]
     },
     "metadata": {},
     "output_type": "display_data"
    },
    {
     "data": {
      "text/html": [
       "<iframe\n",
       "    scrolling=\"no\"\n",
       "    width=\"100%\"\n",
       "    height=\"545px\"\n",
       "    src=\"iframe_figures/figure_10.html\"\n",
       "    frameborder=\"0\"\n",
       "    allowfullscreen\n",
       "></iframe>\n"
      ]
     },
     "metadata": {},
     "output_type": "display_data"
    }
   ],
   "source": [
    "battery_info = {}\n",
    "for idx, row in dataset_df.iterrows() :\n",
    "    battery_id = row['battery_id']\n",
    "    filename = row['filename']\n",
    "    start_time = row['start_time']\n",
    "    filePath = f\"/kaggle/input/nasa-battery-dataset/cleaned_dataset/data/{filename}\"\n",
    "    try:\n",
    "        data = pd.read_csv(filePath)\n",
    "        \n",
    "        if 'Battery_impedance' in data.columns:\n",
    "            impedance_values = data['Battery_impedance'].apply(lambda x: complex(x).real)\n",
    "            avg_impedance = impedance_values.mean()\n",
    "            if battery_id not in battery_info:\n",
    "                battery_info[battery_id] = {'start_time': [], 'battery_impedance': []}\n",
    "            battery_info[battery_id]['start_time'].append(start_time)\n",
    "            battery_info[battery_id]['battery_impedance'].append(avg_impedance)\n",
    "        else:\n",
    "            print(f\"'Battery_impedance' column not found in {filename}\")\n",
    "    except Exception as e:\n",
    "        print(f\"Error occurred with {filename}: {e}\")\n",
    "for battery_id, data in battery_info.items():\n",
    "        fig = go.Figure()\n",
    "        fig.add_trace(go.Scatter(x=data['start_time'],\n",
    "                                 y=data['battery_impedance'],\n",
    "                                 mode='lines',\n",
    "                                 name=f'Battery {battery_id}')\n",
    "                     )\n",
    "        fig.update_layout(\n",
    "            title=f'Battery impedance change over time for battery {battery_id}',\n",
    "            xaxis_title='Start Time',\n",
    "            yaxis_title='Battery Impedance (Ohms)',\n",
    "            xaxis=dict(tickangle=45),\n",
    "            template='plotly'\n",
    "        )\n",
    "        fig.show()"
   ]
  },
  {
   "cell_type": "markdown",
   "id": "3d05e1c1",
   "metadata": {
    "papermill": {
     "duration": 0.01054,
     "end_time": "2024-12-17T07:14:05.555879",
     "exception": false,
     "start_time": "2024-12-17T07:14:05.545339",
     "status": "completed"
    },
    "tags": []
   },
   "source": []
  }
 ],
 "metadata": {
  "kaggle": {
   "accelerator": "none",
   "dataSources": [
    {
     "datasetId": 2553751,
     "sourceId": 4419969,
     "sourceType": "datasetVersion"
    }
   ],
   "dockerImageVersionId": 30804,
   "isGpuEnabled": false,
   "isInternetEnabled": false,
   "language": "python",
   "sourceType": "notebook"
  },
  "kernelspec": {
   "display_name": "Python 3",
   "language": "python",
   "name": "python3"
  },
  "language_info": {
   "codemirror_mode": {
    "name": "ipython",
    "version": 3
   },
   "file_extension": ".py",
   "mimetype": "text/x-python",
   "name": "python",
   "nbconvert_exporter": "python",
   "pygments_lexer": "ipython3",
   "version": "3.10.14"
  },
  "papermill": {
   "default_parameters": {},
   "duration": 25.001719,
   "end_time": "2024-12-17T07:14:06.189494",
   "environment_variables": {},
   "exception": null,
   "input_path": "__notebook__.ipynb",
   "output_path": "__notebook__.ipynb",
   "parameters": {},
   "start_time": "2024-12-17T07:13:41.187775",
   "version": "2.6.0"
  }
 },
 "nbformat": 4,
 "nbformat_minor": 5
}
